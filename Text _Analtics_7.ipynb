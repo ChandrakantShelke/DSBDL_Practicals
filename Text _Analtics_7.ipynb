{
 "cells": [
  {
   "cell_type": "code",
   "execution_count": 71,
   "id": "66333689-b19b-409f-b361-6d7ea258848d",
   "metadata": {},
   "outputs": [],
   "source": [
    "import nltk\n",
    "from nltk import word_tokenize\n",
    "from nltk.corpus import stopwords\n",
    "from nltk.stem import PorterStemmer\n",
    "from nltk.stem import WordNetLemmatizer\n",
    "\n",
    "text=\"We need to Tokenize this text and perform the given Activities\""
   ]
  },
  {
   "cell_type": "code",
   "execution_count": 62,
   "id": "2da47adc-a411-4b06-9981-dbbdcbb46bc9",
   "metadata": {},
   "outputs": [
    {
     "name": "stdout",
     "output_type": "stream",
     "text": [
      "we need to tokenize this text and perform the given activities\n"
     ]
    }
   ],
   "source": [
    "#lower case\n",
    "text=text.lower()\n",
    "print(text)"
   ]
  },
  {
   "cell_type": "code",
   "execution_count": 63,
   "id": "587b323f-b2ac-4503-888b-891c980952fe",
   "metadata": {},
   "outputs": [
    {
     "name": "stdout",
     "output_type": "stream",
     "text": [
      "['we', 'need', 'to', 'tokenize', 'this', 'text', 'and', 'perform', 'the', 'given', 'activities']\n"
     ]
    }
   ],
   "source": [
    "#Tokenize\n",
    "print(nltk.word_tokenize(text))"
   ]
  },
  {
   "cell_type": "code",
   "execution_count": 64,
   "id": "54e87969-c521-4f48-89b2-240a846030f9",
   "metadata": {},
   "outputs": [
    {
     "name": "stderr",
     "output_type": "stream",
     "text": [
      "[nltk_data] Downloading package stopwords to\n",
      "[nltk_data]     C:\\Users\\Asus\\AppData\\Roaming\\nltk_data...\n",
      "[nltk_data]   Package stopwords is already up-to-date!\n",
      "[nltk_data] Downloading package wordnet to\n",
      "[nltk_data]     C:\\Users\\Asus\\AppData\\Roaming\\nltk_data...\n",
      "[nltk_data]   Package wordnet is already up-to-date!\n"
     ]
    },
    {
     "data": {
      "text/plain": [
       "True"
      ]
     },
     "execution_count": 64,
     "metadata": {},
     "output_type": "execute_result"
    }
   ],
   "source": [
    "#StopWords Removal\n",
    "import nltk\n",
    "nltk.download('stopwords')\n",
    "\n",
    "#Lemmatizing\n",
    "import nltk\n",
    "nltk.download('wordnet')\n",
    "\n",
    "import nltk\n",
    "nltk.download('punkt')"
   ]
  },
  {
   "cell_type": "code",
   "execution_count": 65,
   "id": "4444a9eb-62e6-4d5d-b9ba-0216389bb3f1",
   "metadata": {},
   "outputs": [
    {
     "name": "stdout",
     "output_type": "stream",
     "text": [
      "need tokenize text perform given activities\n"
     ]
    }
   ],
   "source": [
    "stop_word=set(stopwords.words('english'))\n",
    "sentence=word_tokenize(text)\n",
    "\n",
    "filtered_words=[word for word in sentence if word.lower() not in stop_word]\n",
    "\n",
    "filtered_text=\" \".join(filtered_words)\n",
    "print(filtered_text)"
   ]
  },
  {
   "cell_type": "code",
   "execution_count": 66,
   "id": "deb05639-be63-4dd1-bb0b-b9d3be13e7fd",
   "metadata": {},
   "outputs": [
    {
     "name": "stdout",
     "output_type": "stream",
     "text": [
      "we need to tokenize this text and perform the given act\n"
     ]
    }
   ],
   "source": [
    "#Stemming\n",
    "porter=PorterStemmer()\n",
    "print(porter.stem(text))"
   ]
  },
  {
   "cell_type": "code",
   "execution_count": 76,
   "id": "a528277f-718d-41f8-bb5e-57122b5dd6e4",
   "metadata": {},
   "outputs": [
    {
     "name": "stdout",
     "output_type": "stream",
     "text": [
      "need tokenize text perform given activities\n"
     ]
    }
   ],
   "source": [
    "##Lemmatization \n",
    "lemmatizer=WordNetLemmatizer()\n",
    "sentence = word_tokenize(text)\n",
    "filtered_words=word_tokenize(filtered_text) #filteres text taka \n",
    "lemmatized_words=[lemmatizer.lemmatize(word, pos='v') for word in filtered_words]\n",
    "filtered_text=\" \".join(filtered_words)\n",
    "print(filtered_text)"
   ]
  },
  {
   "cell_type": "code",
   "execution_count": 68,
   "id": "c37e2cfe-9f45-4b37-b4b6-4f708a4c2aaf",
   "metadata": {},
   "outputs": [],
   "source": [
    "# tf / idf\n",
    "from sklearn.feature_extraction.text import TfidfVectorizer\n",
    "import re #regular expression \n",
    "import string\n",
    "\n",
    "# assign document\n",
    "d0 = 'This is Document 1'\n",
    "d1 = 'Document 2'\n",
    "d2 = 'Document 3'\n",
    "\n",
    "#merge document into a single corpus\n",
    "string = [d0, d1, d2]\n"
   ]
  },
  {
   "cell_type": "code",
   "execution_count": 69,
   "id": "b7363cf5-ec6c-4b6d-9aeb-07a3ae193cac",
   "metadata": {},
   "outputs": [],
   "source": [
    "#create object\n",
    "tfidf = TfidfVectorizer()\n",
    "\n",
    "#get tf-df values\n",
    "result = tfidf.fit_transform(string)"
   ]
  },
  {
   "cell_type": "code",
   "execution_count": 70,
   "id": "f897d2ce-e18c-4d9a-b745-cc12bed33cf2",
   "metadata": {},
   "outputs": [
    {
     "name": "stdout",
     "output_type": "stream",
     "text": [
      "\n",
      " Word indexes:\n",
      "{'this': 2, 'is': 1, 'document': 0}\n",
      "\n",
      " tf-idf value:\n",
      "  (0, 0)\t0.3853716274664007\n",
      "  (0, 1)\t0.652490884512534\n",
      "  (0, 2)\t0.652490884512534\n",
      "  (1, 0)\t1.0\n",
      "  (2, 0)\t1.0\n",
      "\n",
      " tf-idf values in matrix form:\n",
      "[[0.38537163 0.65249088 0.65249088]\n",
      " [1.         0.         0.        ]\n",
      " [1.         0.         0.        ]]\n"
     ]
    }
   ],
   "source": [
    "#get indexing\n",
    "print('\\n Word indexes:')\n",
    "print(tfidf.vocabulary_)\n",
    "\n",
    "#display tf-idf values\n",
    "print('\\n tf-idf value:')\n",
    "print(result)\n",
    "\n",
    "#in matrix form\n",
    "print('\\n tf-idf values in matrix form:')\n",
    "print(result.toarray())"
   ]
  },
  {
   "cell_type": "code",
   "execution_count": null,
   "id": "58d61a0e-ddf0-4c56-9d8f-8deb852a0eba",
   "metadata": {},
   "outputs": [],
   "source": []
  },
  {
   "cell_type": "code",
   "execution_count": null,
   "id": "747e5354-f0c8-4cd7-bb01-0a20f2307ff0",
   "metadata": {},
   "outputs": [],
   "source": []
  }
 ],
 "metadata": {
  "kernelspec": {
   "display_name": "Python 3 (ipykernel)",
   "language": "python",
   "name": "python3"
  },
  "language_info": {
   "codemirror_mode": {
    "name": "ipython",
    "version": 3
   },
   "file_extension": ".py",
   "mimetype": "text/x-python",
   "name": "python",
   "nbconvert_exporter": "python",
   "pygments_lexer": "ipython3",
   "version": "3.12.3"
  }
 },
 "nbformat": 4,
 "nbformat_minor": 5
}
